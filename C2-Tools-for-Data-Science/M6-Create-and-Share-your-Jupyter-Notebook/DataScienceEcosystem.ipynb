{
  "cells": [
    {
      "cell_type": "markdown",
      "source": [
        "Coursera IBM Data Scicence\n",
        "\n",
        "Course 2 Tools for Data Science\n",
        "\n",
        "Module 6 Create and Share your Jupyter Notebook\n",
        "\n",
        "Hands-on Lab: Create your Jupyter Notebook"
      ],
      "metadata": {
        "id": "fG5sDe9vlVP3"
      }
    },
    {
      "cell_type": "markdown",
      "metadata": {
        "id": "2j80w9a9iPb_"
      },
      "source": [
        "<center>\n",
        "    <img src=\"https://cf-courses-data.s3.us.cloud-object-storage.appdomain.cloud/IBMDeveloperSkillsNetwork-DS0105EN-SkillsNetwork/labs/Module2/images/SN_web_lightmode.png\" width=\"300\" alt=\"cognitiveclass.ai logo\">\n",
        "</center>\n"
      ]
    },
    {
      "cell_type": "markdown",
      "metadata": {
        "id": "PPLBucz6iPcD"
      },
      "source": [
        "#### Add your code below following the instructions given in the course\n"
      ]
    },
    {
      "cell_type": "markdown",
      "source": [
        "# Exercise 1: Create a Jupyter Notebook\n",
        "# Name the file as `DataScienceEcosystem.ipynb`\n"
      ],
      "metadata": {
        "id": "g8WMl08XingB"
      }
    },
    {
      "cell_type": "markdown",
      "source": [
        "\n",
        "# Exercise 2: Markdown cell for the title"
      ],
      "metadata": {
        "id": "-5NI-zGSisDX"
      }
    },
    {
      "cell_type": "markdown",
      "source": [
        "# Data Science Tools and Ecosystem"
      ],
      "metadata": {
        "id": "bc0M07FKi0qL"
      }
    },
    {
      "cell_type": "markdown",
      "source": [
        "# Exercise 3: Markdown cell for an introduction"
      ],
      "metadata": {
        "id": "RNCt4Qt0jyBL"
      }
    },
    {
      "cell_type": "markdown",
      "source": [
        "In this notebook, Data Science Tools and Ecosystem are summarized."
      ],
      "metadata": {
        "id": "Vjteo27Vi2ee"
      }
    },
    {
      "cell_type": "markdown",
      "source": [
        "# Exercise 4: Markdown cell to list data science languages"
      ],
      "metadata": {
        "id": "K85Lm5CdjzZf"
      }
    },
    {
      "cell_type": "markdown",
      "source": [
        "Some of the popular languages that Data Scientists use are:\n",
        "1. Python\n",
        "2. R\n",
        "3. SQL\n",
        "4. Julia\n",
        "5. Java"
      ],
      "metadata": {
        "id": "2DfiKHg7kljK"
      }
    },
    {
      "cell_type": "markdown",
      "source": [
        "# Exercise 5: Markdown cell to list data science libraries"
      ],
      "metadata": {
        "id": "1hprX63kkdvT"
      }
    },
    {
      "cell_type": "markdown",
      "source": [
        "Some of the commonly used libraries used by Data Scientists include:\n",
        "1. Pandas\n",
        "2. NumPy\n",
        "3. Matplotlib\n",
        "4. Scikit-learn\n",
        "5. TensorFlow"
      ],
      "metadata": {
        "id": "y1268LttjBKw"
      }
    },
    {
      "cell_type": "markdown",
      "source": [
        "# Exercise 6: Markdown cell with a table of Data Science tools"
      ],
      "metadata": {
        "id": "oxWNgX10kZi0"
      }
    },
    {
      "cell_type": "markdown",
      "source": [
        "| Data Science Tools |\n",
        "|---------------------|\n",
        "| Jupyter Notebook    |\n",
        "| RStudio             |\n",
        "| Apache Zeppelin     |"
      ],
      "metadata": {
        "id": "tXWuBl3CjEWw"
      }
    },
    {
      "cell_type": "markdown",
      "source": [
        "# Exercise 7: Markdown cell introducing arithmetic expression examples"
      ],
      "metadata": {
        "id": "sLCe30Qkksdt"
      }
    },
    {
      "cell_type": "markdown",
      "source": [
        "### Below are a few examples of evaluating arithmetic expressions in Python."
      ],
      "metadata": {
        "id": "EAEDfBHLjJ4k"
      }
    },
    {
      "cell_type": "markdown",
      "source": [
        "# Exercise 8: Code cell to multiply and add numbers"
      ],
      "metadata": {
        "id": "b2YlqeArk6v3"
      }
    },
    {
      "cell_type": "code",
      "source": [
        "# This a simple arithmetic expression to multiply then add integers\n",
        "result = (3 * 4) + 5\n",
        "result"
      ],
      "metadata": {
        "colab": {
          "base_uri": "https://localhost:8080/"
        },
        "id": "_loA6NunjcRY",
        "outputId": "4b137d00-ef13-48a3-a5c4-225aad4d1778"
      },
      "execution_count": 1,
      "outputs": [
        {
          "output_type": "execute_result",
          "data": {
            "text/plain": [
              "17"
            ]
          },
          "metadata": {},
          "execution_count": 1
        }
      ]
    },
    {
      "cell_type": "markdown",
      "source": [
        "# Exercise 9: Code cell to convert minutes to hours"
      ],
      "metadata": {
        "id": "dL-YTYqpk1bx"
      }
    },
    {
      "cell_type": "code",
      "source": [
        "# This will convert 200 minutes to hours by dividing by 60\n",
        "hours = 200 / 60\n",
        "hours"
      ],
      "metadata": {
        "colab": {
          "base_uri": "https://localhost:8080/"
        },
        "id": "-anYqBPwjf5n",
        "outputId": "e916eccd-80f7-484f-fc2a-040a0adf76f3"
      },
      "execution_count": 2,
      "outputs": [
        {
          "output_type": "execute_result",
          "data": {
            "text/plain": [
              "3.3333333333333335"
            ]
          },
          "metadata": {},
          "execution_count": 2
        }
      ]
    },
    {
      "cell_type": "markdown",
      "source": [
        "# Exercise 10: Markdown cell to list objectives"
      ],
      "metadata": {
        "id": "iqLbGy2alAN1"
      }
    },
    {
      "cell_type": "markdown",
      "source": [
        "**Objectives:**\n",
        "- List popular languages for Data Science\n",
        "- Discuss commonly used libraries for Data Science\n",
        "- Introduce open-source development environments for Data Science\n",
        "- Provide examples of arithmetic operations in Python"
      ],
      "metadata": {
        "id": "zgrTZFnHjof3"
      }
    },
    {
      "cell_type": "markdown",
      "source": [
        "# Exercise 11: Markdown cell for the author's name"
      ],
      "metadata": {
        "id": "JJZmaK1NlJVv"
      }
    },
    {
      "cell_type": "markdown",
      "source": [
        "## Author\n",
        "Yuki Nakayama"
      ],
      "metadata": {
        "id": "DSa_zV-flGhh"
      }
    }
  ],
  "metadata": {
    "kernelspec": {
      "display_name": "Python 3 (ipykernel)",
      "language": "python",
      "name": "python3"
    },
    "language_info": {
      "codemirror_mode": {
        "name": "ipython",
        "version": 3
      },
      "file_extension": ".py",
      "mimetype": "text/x-python",
      "name": "python",
      "nbconvert_exporter": "python",
      "pygments_lexer": "ipython3",
      "version": "3.11.9"
    },
    "colab": {
      "provenance": []
    }
  },
  "nbformat": 4,
  "nbformat_minor": 0
}